{
 "cells": [
  {
   "cell_type": "code",
   "execution_count": 1,
   "id": "a6c1277b-3b69-4410-986e-e3126a20e01e",
   "metadata": {},
   "outputs": [
    {
     "name": "stdout",
     "output_type": "stream",
     "text": [
      "Welcome to Assignment-1\n"
     ]
    }
   ],
   "source": [
    "print(\"Welcome to Assignment-1\")"
   ]
  },
  {
   "cell_type": "code",
   "execution_count": 8,
   "id": "918e9a8d-8904-4078-ab0e-e5a789dfc0eb",
   "metadata": {},
   "outputs": [
    {
     "name": "stdout",
     "output_type": "stream",
     "text": [
      "Num1= 10\n",
      "Num2= 30\n",
      "Add= 40\n"
     ]
    }
   ],
   "source": [
    "Num1=10; Num2=30;\n",
    "Add=Num1+Num2\n",
    "print(\"Num1=\",Num1)\n",
    "print(\"Num2=\",Num2)\n",
    "print(\"Add=\",Add)"
   ]
  },
  {
   "cell_type": "code",
   "execution_count": 13,
   "id": "fc88429c-abc8-4189-8daf-e6eeb25b89a6",
   "metadata": {},
   "outputs": [
    {
     "name": "stdin",
     "output_type": "stream",
     "text": [
      "Enter the body weight: 50\n"
     ]
    },
    {
     "name": "stdout",
     "output_type": "stream",
     "text": [
      "Extreme Obese\n"
     ]
    }
   ],
   "source": [
    "Weight=float(input(\"Enter the body weight:\"))\n",
    "if (Weight<=18.5):\n",
    "    print (\"Underweight\")\n",
    "elif ((Weight>18.5) & (Weight<=24.9)):\n",
    "    print (\"Normal\")\n",
    "elif ((Weight>25) & (Weight<=29.9)):\n",
    "    print (\"Overweight\")\n",
    "elif ((Weight>30) & (Weight<=40)):\n",
    "    print (\"Obese\")\n",
    "elif (Weight>40):\n",
    "    print (\"Extreme Obese\")"
   ]
  },
  {
   "cell_type": "code",
   "execution_count": 14,
   "id": "5696b1d1-be42-480d-b671-3477bfd3c1de",
   "metadata": {},
   "outputs": [
    {
     "name": "stdout",
     "output_type": "stream",
     "text": [
      "HOPE AI\n"
     ]
    }
   ],
   "source": [
    "print(\"HOPE AI\")"
   ]
  },
  {
   "cell_type": "code",
   "execution_count": 16,
   "id": "b83bd035-950e-4a17-8804-089e4312bcb0",
   "metadata": {},
   "outputs": [
    {
     "name": "stdin",
     "output_type": "stream",
     "text": [
      "Enter the institute Name: HOPE AI\n"
     ]
    }
   ],
   "source": [
    "A=input(\"Enter the institute Name:\")"
   ]
  },
  {
   "cell_type": "code",
   "execution_count": 18,
   "id": "2f28b252-c616-422d-b216-8fe8a79a8425",
   "metadata": {},
   "outputs": [
    {
     "name": "stdin",
     "output_type": "stream",
     "text": [
      "Enter your name: Shabana\n",
      "Enter your age: 30\n",
      "Enter your school name: Bharat\n",
      "Enter your degree: BE\n"
     ]
    }
   ],
   "source": [
    "A=input(\"Enter your name:\")\n",
    "B=int(input(\"Enter your age:\"))\n",
    "C=input(\"Enter your school name:\")\n",
    "D=input(\"Enter your degree:\")"
   ]
  },
  {
   "cell_type": "code",
   "execution_count": 19,
   "id": "085b1e55-b470-46e2-9ec0-a5866ecbb05d",
   "metadata": {},
   "outputs": [
    {
     "name": "stdout",
     "output_type": "stream",
     "text": [
      "a= 43\n",
      "b= 34\n",
      "Add= 77\n"
     ]
    }
   ],
   "source": [
    "A=43; B=34;\n",
    "Add=A+B\n",
    "print(\"a=\",A)\n",
    "print(\"b=\",B)\n",
    "print(\"Add=\",Add)"
   ]
  },
  {
   "cell_type": "code",
   "execution_count": 20,
   "id": "82151e77-49ec-4a6b-ba5e-d875b6543c62",
   "metadata": {},
   "outputs": [
    {
     "name": "stdout",
     "output_type": "stream",
     "text": [
      "a= 43\n",
      "b= 34\n",
      "Sub= 9\n"
     ]
    }
   ],
   "source": [
    "A=43; B=34;\n",
    "Sub=A-B\n",
    "print(\"a=\",A)\n",
    "print(\"b=\",B)\n",
    "print(\"Sub=\",Sub)"
   ]
  },
  {
   "cell_type": "code",
   "execution_count": 21,
   "id": "bc058412-7573-435d-855e-96dea98ccc37",
   "metadata": {},
   "outputs": [
    {
     "name": "stdout",
     "output_type": "stream",
     "text": [
      "a= 63\n",
      "b= 97\n",
      "Mul= 6111\n"
     ]
    }
   ],
   "source": [
    "A=63; B=97;\n",
    "Mul=A*B\n",
    "print(\"a=\",A)\n",
    "print(\"b=\",B)\n",
    "print(\"Mul=\",Mul)"
   ]
  },
  {
   "cell_type": "code",
   "execution_count": 22,
   "id": "541c5dfd-42d2-441d-a659-39fa0c832d17",
   "metadata": {},
   "outputs": [
    {
     "name": "stdout",
     "output_type": "stream",
     "text": [
      "a= 76\n",
      "b= 31\n",
      "Float Div= 2.4516129032258065\n"
     ]
    }
   ],
   "source": [
    "A=76; B=31;\n",
    "Div=A/B\n",
    "print(\"a=\",A)\n",
    "print(\"b=\",B)\n",
    "print(\"Float Div=\",Div)"
   ]
  },
  {
   "cell_type": "code",
   "execution_count": 23,
   "id": "7bef0514-9374-4d30-8f36-1a1e0f07c79d",
   "metadata": {},
   "outputs": [
    {
     "name": "stdout",
     "output_type": "stream",
     "text": [
      "a= 76\n",
      "b= 31\n",
      "Floor Div= 2\n"
     ]
    }
   ],
   "source": [
    "A=76; B=31;\n",
    "Div=A//B\n",
    "print(\"a=\",A)\n",
    "print(\"b=\",B)\n",
    "print(\"Floor Div=\",Div)"
   ]
  },
  {
   "cell_type": "code",
   "execution_count": 24,
   "id": "8c56ca7a-8c82-42e5-8a5a-2a156f392596",
   "metadata": {},
   "outputs": [
    {
     "name": "stdout",
     "output_type": "stream",
     "text": [
      "a= 76\n",
      "b= 31\n",
      "Modulo= 14\n"
     ]
    }
   ],
   "source": [
    "A=76; B=31;\n",
    "Modulo=A%B\n",
    "print(\"a=\",A)\n",
    "print(\"b=\",B)\n",
    "print(\"Modulo=\",Modulo)"
   ]
  },
  {
   "cell_type": "code",
   "execution_count": 25,
   "id": "91d215bb-c7c2-4c44-940f-b1ea130c7b57",
   "metadata": {},
   "outputs": [
    {
     "name": "stdout",
     "output_type": "stream",
     "text": [
      "a= 4\n",
      "b= 4\n",
      "Power= 256\n"
     ]
    }
   ],
   "source": [
    "A=4; B=4;\n",
    "Power=A**B\n",
    "print(\"a=\",A)\n",
    "print(\"b=\",B)\n",
    "print(\"Power=\",Power)"
   ]
  },
  {
   "cell_type": "code",
   "execution_count": null,
   "id": "2d32f4d2-573e-4c12-b9ee-3bd429e75a58",
   "metadata": {},
   "outputs": [],
   "source": []
  }
 ],
 "metadata": {
  "kernelspec": {
   "display_name": "Python [conda env:base] *",
   "language": "python",
   "name": "conda-base-py"
  },
  "language_info": {
   "codemirror_mode": {
    "name": "ipython",
    "version": 3
   },
   "file_extension": ".py",
   "mimetype": "text/x-python",
   "name": "python",
   "nbconvert_exporter": "python",
   "pygments_lexer": "ipython3",
   "version": "3.13.5"
  }
 },
 "nbformat": 4,
 "nbformat_minor": 5
}
