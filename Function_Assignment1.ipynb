{
 "cells": [
  {
   "cell_type": "code",
   "execution_count": null,
   "id": "7d1369fd-fa5d-44e6-8700-287f5d18c05f",
   "metadata": {},
   "outputs": [],
   "source": [
    "class SubfieldsInAI:\n",
    "    @staticmethod\n",
    "    def Subfields():\n",
    "        print(\"Sub-fields in AI are:\")\n",
    "        fields=[\"Machine Learning\", \"Neural networks\", \"Vision\", \"Robotics\", \"Speech processing\", \"Natural language processing\"]\n",
    "        for f in fields:\n",
    "            print(f)\n",
    "        "
   ]
  },
  {
   "cell_type": "code",
   "execution_count": null,
   "id": "ce708810-83cf-495c-9c47-adb83a03011b",
   "metadata": {},
   "outputs": [],
   "source": [
    "SubfieldsInAI.Subfields()"
   ]
  },
  {
   "cell_type": "code",
   "execution_count": null,
   "id": "d7b901b1-db70-4a40-be05-98014cba3151",
   "metadata": {},
   "outputs": [],
   "source": [
    "def OddEven():\n",
    "    num=int(input(\"Enter the number:\"))\n",
    "    if num%2==0:\n",
    "        print(f\"{num} is Even\")\n",
    "    else:\n",
    "        print(f\"{num} is Odd\")"
   ]
  },
  {
   "cell_type": "code",
   "execution_count": null,
   "id": "9de10a93-28d5-431b-ba33-e53749661f60",
   "metadata": {},
   "outputs": [],
   "source": [
    "OddEven()"
   ]
  },
  {
   "cell_type": "code",
   "execution_count": 2,
   "id": "576bbf30-1f73-4bed-9659-9d863d26e5ea",
   "metadata": {},
   "outputs": [],
   "source": [
    "class EligibilityforMarriage:\n",
    "    @staticmethod\n",
    "    def Eligible():\n",
    "        gender=input(\"Enter gender:\")\n",
    "        age=int(input(\"Enter age:\"))\n",
    "        print(f\"Your gender:{gender}\")\n",
    "        print(f\"Your age:{age}\")\n",
    "        if gender.lower()==\"male\" and age>=21:\n",
    "            print(\"Eligible\")\n",
    "        elif gender.lower()==\"female\" and age>=18:\n",
    "            print(\"Eligible\")\n",
    "        else:\n",
    "            print(\"Not Eligible\")"
   ]
  },
  {
   "cell_type": "code",
   "execution_count": 3,
   "id": "d17dded7-1823-4f02-98ff-5cc1e25deed6",
   "metadata": {},
   "outputs": [
    {
     "name": "stdin",
     "output_type": "stream",
     "text": [
      "Enter gender: female\n",
      "Enter age: 31\n"
     ]
    },
    {
     "name": "stdout",
     "output_type": "stream",
     "text": [
      "Your gender:female\n",
      "Your age:31\n",
      "Eligible\n"
     ]
    }
   ],
   "source": [
    "EligibilityforMarriage.Eligible()"
   ]
  },
  {
   "cell_type": "code",
   "execution_count": 6,
   "id": "2ef6a1c0-1a28-4dc4-b485-b78acc07848d",
   "metadata": {},
   "outputs": [],
   "source": [
    "def findpercentage():\n",
    "    s1=int(input(\"Subject1:\"))\n",
    "    s2=int(input(\"Subject2:\"))\n",
    "    s3=int(input(\"Subject3:\"))\n",
    "    s4=int(input(\"Subject4:\"))\n",
    "    s5=int(input(\"Subject5:\"))\n",
    "    total=s1+s2+s3+s4+s5\n",
    "    print(\"Total is\", total)\n",
    "    percentage=total/500*100\n",
    "    print(\"Percentage is\", percentage)"
   ]
  },
  {
   "cell_type": "code",
   "execution_count": 7,
   "id": "f26dde65-e3a8-44cc-b6ba-c0064b767726",
   "metadata": {},
   "outputs": [
    {
     "name": "stdin",
     "output_type": "stream",
     "text": [
      "Subject1: 20\n",
      "Subject2: 30\n",
      "Subject3: 50\n",
      "Subject4: 30\n",
      "Subject5: 60\n"
     ]
    },
    {
     "name": "stdout",
     "output_type": "stream",
     "text": [
      "Total is 190\n",
      "Percentage is 38.0\n"
     ]
    }
   ],
   "source": [
    "findpercentage()"
   ]
  },
  {
   "cell_type": "code",
   "execution_count": 12,
   "id": "354ec31d-5c77-454a-942b-2888a08d94d3",
   "metadata": {},
   "outputs": [],
   "source": [
    "def triange():\n",
    "    height=int(input(\"Height:\"))\n",
    "    weight=int(input(\"Length:\"))\n",
    "    print (\"Area formula:(height*weight)/2\")\n",
    "    area=height*weight/2\n",
    "    print(\"Area of triangle:\",area)\n",
    "    height1=int(input(\"Height1:\"))\n",
    "    height2=int(input(\"Height2:\"))\n",
    "    breadth=int(input(\"breadth:\"))\n",
    "    print(\"Perimeter formula:Height1+Height2+Breadth\")\n",
    "    peri=height1+height2+breadth\n",
    "    print(\"perimeter of triangle:\",peri)\n",
    "    "
   ]
  },
  {
   "cell_type": "code",
   "execution_count": 13,
   "id": "38b754a6-3d67-47ac-88b7-6580321e330c",
   "metadata": {},
   "outputs": [
    {
     "name": "stdin",
     "output_type": "stream",
     "text": [
      "Height: 30\n",
      "Length: 40\n"
     ]
    },
    {
     "name": "stdout",
     "output_type": "stream",
     "text": [
      "Area formula:(height*weight)/2\n",
      "Area of triangle: 600.0\n"
     ]
    },
    {
     "name": "stdin",
     "output_type": "stream",
     "text": [
      "Height1: 40\n",
      "Height2: 30\n",
      "breadth: 20\n"
     ]
    },
    {
     "name": "stdout",
     "output_type": "stream",
     "text": [
      "Perimeter formula:Height1+Height2+Breadth\n",
      "perimeter of triangle: 90\n"
     ]
    }
   ],
   "source": [
    "triange()"
   ]
  },
  {
   "cell_type": "code",
   "execution_count": null,
   "id": "affbd940-86cb-473b-b57e-a996ea28699e",
   "metadata": {},
   "outputs": [],
   "source": []
  }
 ],
 "metadata": {
  "kernelspec": {
   "display_name": "Python [conda env:base] *",
   "language": "python",
   "name": "conda-base-py"
  },
  "language_info": {
   "codemirror_mode": {
    "name": "ipython",
    "version": 3
   },
   "file_extension": ".py",
   "mimetype": "text/x-python",
   "name": "python",
   "nbconvert_exporter": "python",
   "pygments_lexer": "ipython3",
   "version": "3.13.5"
  }
 },
 "nbformat": 4,
 "nbformat_minor": 5
}
