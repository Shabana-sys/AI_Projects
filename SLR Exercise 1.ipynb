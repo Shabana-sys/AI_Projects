{
 "cells": [
  {
   "cell_type": "code",
   "execution_count": 1,
   "id": "908e01b5-39e5-43ed-a7a3-abcef990c1e5",
   "metadata": {},
   "outputs": [],
   "source": [
    "# This assignment is to predict the salary based on years of experience\n",
    "\n",
    "# Data loading\n",
    "import pandas\n",
    "dataset = pandas.read_csv(\"Dataset - Salary.csv\")\n",
    "#defining Input and Output Variables\n",
    "independent = dataset[[\"Experience\"]]\n",
    "dependent = dataset[[\"Salary\"]]"
   ]
  },
  {
   "cell_type": "code",
   "execution_count": 2,
   "id": "56c5a917-109c-4603-a747-5a32e7ba2609",
   "metadata": {},
   "outputs": [
    {
     "data": {
      "text/plain": [
       "<matplotlib.collections.PathCollection at 0x26b642b5550>"
      ]
     },
     "execution_count": 2,
     "metadata": {},
     "output_type": "execute_result"
    },
    {
     "data": {
      "image/png": "[encoded data removed]",
      "text/plain": [
       "<Figure size 640x480 with 1 Axes>"
      ]
     },
     "metadata": {},
     "output_type": "display_data"
    }
   ],
   "source": [
    "# plot the values in a graph to identify the type of regression\n",
    "import matplotlib.pyplot as plt\n",
    "plt.scatter(dataset['Experience'], dataset[\"Salary\"])"
   ]
  },
  {
   "cell_type": "code",
   "execution_count": 3,
   "id": "8eb2ebab-d055-440f-8e68-aec147c16709",
   "metadata": {},
   "outputs": [
    {
     "data": {
      "text/html": [
       "<div>\n",
       "<style scoped>\n",
       "    .dataframe tbody tr th:only-of-type {\n",
       "        vertical-align: middle;\n",
       "    }\n",
       "\n",
       "    .dataframe tbody tr th {\n",
       "        vertical-align: top;\n",
       "    }\n",
       "\n",
       "    .dataframe thead th {\n",
       "        text-align: right;\n",
       "    }\n",
       "</style>\n",
       "<table border=\"1\" class=\"dataframe\">\n",
       "  <thead>\n",
       "    <tr style=\"text-align: right;\">\n",
       "      <th></th>\n",
       "      <th>Experience</th>\n",
       "    </tr>\n",
       "  </thead>\n",
       "  <tbody>\n",
       "    <tr>\n",
       "      <th>6</th>\n",
       "      <td>7.0</td>\n",
       "    </tr>\n",
       "    <tr>\n",
       "      <th>11</th>\n",
       "      <td>15.0</td>\n",
       "    </tr>\n",
       "    <tr>\n",
       "      <th>4</th>\n",
       "      <td>4.3</td>\n",
       "    </tr>\n",
       "  </tbody>\n",
       "</table>\n",
       "</div>"
      ],
      "text/plain": [
       "    Experience\n",
       "6          7.0\n",
       "11        15.0\n",
       "4          4.3"
      ]
     },
     "execution_count": 3,
     "metadata": {},
     "output_type": "execute_result"
    }
   ],
   "source": [
    "# sklearn is the ML model and train-test-split is the function\n",
    "from sklearn.model_selection import train_test_split\n",
    "#Splitting the train and test set for both input & output\n",
    "exp_train, exp_test, sal_train, sal_test = train_test_split(independent, dependent, test_size = 0.2, random_state = 0)\n",
    "exp_test"
   ]
  },
  {
   "cell_type": "code",
   "execution_count": 4,
   "id": "aef9bf0c-d624-4332-9d03-3323cb11661a",
   "metadata": {
    "scrolled": true
   },
   "outputs": [
    {
     "name": "stdout",
     "output_type": "stream",
     "text": [
      "Weight is [[4343.93077386]] and Bias is [13420.08557757]\n"
     ]
    }
   ],
   "source": [
    "# train - Model creation\n",
    "from sklearn.linear_model import LinearRegression\n",
    "regressor = LinearRegression()\n",
    "regressor.fit(exp_train, sal_train)\n",
    "weight = regressor.coef_\n",
    "bias = regressor.intercept_\n",
    "print (f\"Weight is {weight} and Bias is {bias}\")"
   ]
  },
  {
   "cell_type": "code",
   "execution_count": 5,
   "id": "1e03cff8-3056-4660-aa7c-3993d8e057b7",
   "metadata": {},
   "outputs": [],
   "source": [
    "# predict the values of test dataset manually\n",
    "sal_pred = regressor.predict(exp_test)"
   ]
  },
  {
   "cell_type": "code",
   "execution_count": 6,
   "id": "68443d3b-407e-4b12-b2c2-05179e86e28a",
   "metadata": {},
   "outputs": [
    {
     "data": {
      "text/plain": [
       "0.962807900157144"
      ]
     },
     "execution_count": 6,
     "metadata": {},
     "output_type": "execute_result"
    }
   ],
   "source": [
    "# validate the model using r square\n",
    "from sklearn.metrics import r2_score\n",
    "r2_value = r2_score(sal_test, sal_pred)\n",
    "r2_value"
   ]
  },
  {
   "cell_type": "code",
   "execution_count": 7,
   "id": "7db14e76-1f3d-43c5-9322-1f0b9639980e",
   "metadata": {},
   "outputs": [],
   "source": [
    "#Saving the model in the pickle library\n",
    "import pickle\n",
    "filename = \"SLR_model1.sav\"\n",
    "pickle.dump(regressor, open(filename, 'wb'))"
   ]
  },
  {
   "cell_type": "code",
   "execution_count": 10,
   "id": "0986a652-467d-4e81-984a-fcfe1dc881e4",
   "metadata": {},
   "outputs": [
    {
     "name": "stderr",
     "output_type": "stream",
     "text": [
      "C:\\Users\\User\\anaconda3\\Lib\\site-packages\\sklearn\\utils\\validation.py:2739: UserWarning: X does not have valid feature names, but LinearRegression was fitted with feature names\n",
      "  warnings.warn(\n"
     ]
    },
    {
     "data": {
      "text/plain": [
       "array([[69891.18563774]])"
      ]
     },
     "execution_count": 10,
     "metadata": {},
     "output_type": "execute_result"
    }
   ],
   "source": [
    "#Loading the saved model and predicting the final output\n",
    "Loaded_model = pickle.load(open(\"SLR_model1.sav\", 'rb'))\n",
    "result = Loaded_model.predict([[13]])\n",
    "result"
   ]
  },
  {
   "cell_type": "code",
   "execution_count": null,
   "id": "0a0a8bc7-0532-484a-b922-03d04b8687cb",
   "metadata": {},
   "outputs": [],
   "source": []
  }
 ],
 "metadata": {
  "kernelspec": {
   "display_name": "Python [conda env:base] *",
   "language": "python",
   "name": "conda-base-py"
  },
  "language_info": {
   "codemirror_mode": {
    "name": "ipython",
    "version": 3
   },
   "file_extension": ".py",
   "mimetype": "text/x-python",
   "name": "python",
   "nbconvert_exporter": "python",
   "pygments_lexer": "ipython3",
   "version": "3.13.5"
  }
 },
 "nbformat": 4,
 "nbformat_minor": 5
}
