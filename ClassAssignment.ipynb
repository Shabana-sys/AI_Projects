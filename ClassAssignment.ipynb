{
 "cells": [
  {
   "cell_type": "code",
   "execution_count": 2,
   "id": "c91f3cd1-0c59-46cd-a9ca-b62f02893856",
   "metadata": {},
   "outputs": [],
   "source": [
    "class SubfieldsInAI():\n",
    "    def Subfields():\n",
    "        print(\"Subfields in AI are:\")\n",
    "        fields=[\"Machine learning\", \"Neural networks\", \"Vision\", \"Robotics\", \"Speech processing\", \"Natural language processing\"]\n",
    "        for f in fields:\n",
    "            print(f)"
   ]
  },
  {
   "cell_type": "code",
   "execution_count": 3,
   "id": "5dbfe6af-c46d-4e76-9119-3ea65dc9b0a4",
   "metadata": {},
   "outputs": [
    {
     "name": "stdout",
     "output_type": "stream",
     "text": [
      "Subfields in AI are:\n",
      "Machine learning\n",
      "Neural networks\n",
      "Vision\n",
      "Robotics\n",
      "Speech processing\n",
      "Natural language processing\n"
     ]
    }
   ],
   "source": [
    "SubfieldsInAI.Subfields()"
   ]
  },
  {
   "cell_type": "code",
   "execution_count": 7,
   "id": "7a0f4aac-2c0f-4f90-8e8d-34346713d859",
   "metadata": {},
   "outputs": [],
   "source": [
    "class OddEven():\n",
    "    def OddEven():\n",
    "        num=int(input(\"Enter a number:\"))\n",
    "        if num%2==0:\n",
    "            print(\"Even number\")\n",
    "        else:\n",
    "            print(\"Odd number\")"
   ]
  },
  {
   "cell_type": "code",
   "execution_count": 8,
   "id": "572af3b7-6a5a-459d-9859-1b86fc9d38ae",
   "metadata": {},
   "outputs": [
    {
     "name": "stdin",
     "output_type": "stream",
     "text": [
      "Enter a number: 52452\n"
     ]
    },
    {
     "name": "stdout",
     "output_type": "stream",
     "text": [
      "Even number\n"
     ]
    }
   ],
   "source": [
    "OddEven.OddEven()"
   ]
  },
  {
   "cell_type": "code",
   "execution_count": 9,
   "id": "cb526a55-aa30-4e00-9db7-d2f95cb0a62e",
   "metadata": {},
   "outputs": [],
   "source": [
    "class EligibilityforMarriage:\n",
    "    def Eligible():\n",
    "        gender=input(\"Enter gender:\")\n",
    "        age=int(input(\"Enter age:\"))\n",
    "        print(f\"Your gender:{gender}\")\n",
    "        print(f\"Your age:{age}\")\n",
    "        if gender.lower()==\"male\" and age>=21:\n",
    "            print(\"Eligible\")\n",
    "        elif gender.lower()==\"female\" and age>=18:\n",
    "            print(\"Eligible\")\n",
    "        else:\n",
    "            print(\"Not Eligible\")"
   ]
  },
  {
   "cell_type": "code",
   "execution_count": 10,
   "id": "52113a33-671f-4628-8a26-4116a8cea500",
   "metadata": {},
   "outputs": [
    {
     "name": "stdin",
     "output_type": "stream",
     "text": [
      "Enter gender: female\n",
      "Enter age: 22\n"
     ]
    },
    {
     "name": "stdout",
     "output_type": "stream",
     "text": [
      "Your gender:female\n",
      "Your age:22\n",
      "Eligible\n"
     ]
    }
   ],
   "source": [
    "EligibilityforMarriage.Eligible()"
   ]
  },
  {
   "cell_type": "code",
   "execution_count": 14,
   "id": "80ac6818-2dbc-4ea3-9220-5121f25c0d60",
   "metadata": {},
   "outputs": [],
   "source": [
    "class triangle:\n",
    "    def triangle():\n",
    "        height=int(input(\"Height:\"))\n",
    "        weight=int(input(\"Length:\"))\n",
    "        print (\"Area formula:(height*weight)/2\")\n",
    "        area=height*weight/2\n",
    "        print(\"Area of triangle:\",area)\n",
    "        height1=int(input(\"Height1:\"))\n",
    "        height2=int(input(\"Height2:\"))\n",
    "        breadth=int(input(\"breadth:\"))\n",
    "        print(\"Perimeter formula:Height1+Height2+Breadth\")\n",
    "        peri=height1+height2+breadth\n",
    "        print(\"perimeter of triangle:\",peri)"
   ]
  },
  {
   "cell_type": "code",
   "execution_count": 15,
   "id": "65335b66-b368-4246-8db8-c49c12610478",
   "metadata": {},
   "outputs": [
    {
     "name": "stdin",
     "output_type": "stream",
     "text": [
      "Height: 20\n",
      "Length: 30\n"
     ]
    },
    {
     "name": "stdout",
     "output_type": "stream",
     "text": [
      "Area formula:(height*weight)/2\n",
      "Area of triangle: 300.0\n"
     ]
    },
    {
     "name": "stdin",
     "output_type": "stream",
     "text": [
      "Height1: 300\n",
      "Height2: 100\n",
      "breadth: 55\n"
     ]
    },
    {
     "name": "stdout",
     "output_type": "stream",
     "text": [
      "Perimeter formula:Height1+Height2+Breadth\n",
      "perimeter of triangle: 455\n"
     ]
    }
   ],
   "source": [
    "triangle.triangle()"
   ]
  },
  {
   "cell_type": "code",
   "execution_count": 21,
   "id": "41dc7180-7642-48cd-ae64-d20bca3ca1a1",
   "metadata": {},
   "outputs": [],
   "source": [
    "#.py file\n",
    "from MultipleFunctions import multipleFunctions"
   ]
  },
  {
   "cell_type": "code",
   "execution_count": 22,
   "id": "92333176-5e61-43b9-9842-539ba6965c42",
   "metadata": {},
   "outputs": [
    {
     "name": "stdin",
     "output_type": "stream",
     "text": [
      "Enter the BMI Index: 34\n"
     ]
    },
    {
     "name": "stdout",
     "output_type": "stream",
     "text": [
      "Obese\n"
     ]
    },
    {
     "data": {
      "text/plain": [
       "'Obese'"
      ]
     },
     "execution_count": 22,
     "metadata": {},
     "output_type": "execute_result"
    }
   ],
   "source": [
    "multipleFunctions.BMI()"
   ]
  },
  {
   "cell_type": "code",
   "execution_count": 23,
   "id": "517bb48c-13f4-4296-8f26-e2b4df403020",
   "metadata": {},
   "outputs": [
    {
     "name": "stdin",
     "output_type": "stream",
     "text": [
      "Enter the number: 1555\n"
     ]
    },
    {
     "name": "stdout",
     "output_type": "stream",
     "text": [
      "Odd Number\n"
     ]
    },
    {
     "data": {
      "text/plain": [
       "'Odd Number'"
      ]
     },
     "execution_count": 23,
     "metadata": {},
     "output_type": "execute_result"
    }
   ],
   "source": [
    "#.py file\n",
    "multipleFunctions.OddEven()"
   ]
  },
  {
   "cell_type": "code",
   "execution_count": 24,
   "id": "408ffde4-daf0-4069-ae40-9a3d42e59456",
   "metadata": {},
   "outputs": [
    {
     "name": "stdin",
     "output_type": "stream",
     "text": [
      "Enter gender: Female\n",
      "Enter age: 22\n"
     ]
    },
    {
     "name": "stdout",
     "output_type": "stream",
     "text": [
      "Your gender:Female\n",
      "Your age:22\n",
      "Eligible\n"
     ]
    }
   ],
   "source": [
    "#.py file\n",
    "multipleFunctions.Eligible()"
   ]
  },
  {
   "cell_type": "code",
   "execution_count": 25,
   "id": "29472e35-b788-4e0b-b16b-f8916ce189ae",
   "metadata": {},
   "outputs": [
    {
     "name": "stdout",
     "output_type": "stream",
     "text": [
      "Subfields in AI are:\n",
      "Machine learning\n",
      "Neural networks\n",
      "Vision\n",
      "Robotics\n",
      "Speech processing\n",
      "Natural language processing\n"
     ]
    }
   ],
   "source": [
    "#.py file\n",
    "multipleFunctions.Subfields()"
   ]
  },
  {
   "cell_type": "code",
   "execution_count": null,
   "id": "485b4464-bd00-4ddc-a10a-a464b038caad",
   "metadata": {},
   "outputs": [],
   "source": []
  }
 ],
 "metadata": {
  "kernelspec": {
   "display_name": "Python [conda env:base] *",
   "language": "python",
   "name": "conda-base-py"
  },
  "language_info": {
   "codemirror_mode": {
    "name": "ipython",
    "version": 3
   },
   "file_extension": ".py",
   "mimetype": "text/x-python",
   "name": "python",
   "nbconvert_exporter": "python",
   "pygments_lexer": "ipython3",
   "version": "3.13.5"
  }
 },
 "nbformat": 4,
 "nbformat_minor": 5
}
